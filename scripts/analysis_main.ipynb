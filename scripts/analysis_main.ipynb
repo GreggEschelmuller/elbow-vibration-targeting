{
 "cells": [
  {
   "cell_type": "code",
   "execution_count": 1,
   "metadata": {},
   "outputs": [],
   "source": [
    "import pandas as pd\n",
    "import numpy as np\n",
    "import matplotlib.pyplot as plt\n",
    "import seaborn as sns\n",
    "import os"
   ]
  },
  {
   "cell_type": "code",
   "execution_count": null,
   "metadata": {},
   "outputs": [],
   "source": [
    "\n",
    "# Set the path to the parent directory containing all participant folders\n",
    "parent_directory_path = 'data/participants'\n",
    "\n",
    "# List all participant directories\n",
    "participant_directories = [d for d in os.listdir(parent_directory_path) if os.path.isdir(os.path.join(parent_directory_path, d))]\n",
    "\n",
    "# Initialize an empty DataFrame to hold all combined data\n",
    "combined_data = pd.DataFrame()\n",
    "\n",
    "# Iterate through each participant directory and load the corresponding file\n",
    "for participant in participant_directories:\n",
    "    file_path = os.path.join(parent_directory_path, participant, f'{participant}_main.csv')\n",
    "    \n",
    "    # Load the data\n",
    "    temp_df = pd.read_csv(file_path)\n",
    "    \n",
    "    # Add a column for participant_id\n",
    "    temp_df['participant_id'] = participant\n",
    "    \n",
    "    # Append to the combined DataFrame\n",
    "    combined_data = pd.concat([combined_data, temp_df], ignore_index=True)\n",
    "\n",
    "# Now 'combined_data' contains data from all participants, with an identifier column\n"
   ]
  },
  {
   "cell_type": "code",
   "execution_count": 6,
   "metadata": {},
   "outputs": [
    {
     "data": {
      "text/plain": [
       "Index(['trial_num', 'move_times', 'elbow_start_volts', 'elbow_start_pix',\n",
       "       'elbow_start_cm', 'elbow_start_deg', 'elbow_end_volts', 'elbow_end_pix',\n",
       "       'elbow_end_cm', 'elbow_end_deg', 'cursor_end_pix', 'curs_end_cm',\n",
       "       'curs_end_deg', 'mean_velocity', 'error', 'block', 'trial_delay',\n",
       "       'target_cm', 'target_deg', 'target_pix', 'rt', 'target_pos',\n",
       "       'target_amp', 'full_feedback', 'terminal_feedback',\n",
       "       'rotation_direction', 'rotation', 'rotation_angle', 'clamp',\n",
       "       'clamp_angle', 'vibration', 'trial_type'],\n",
       "      dtype='object')"
      ]
     },
     "execution_count": 6,
     "metadata": {},
     "output_type": "execute_result"
    }
   ],
   "source": [
    "data = pd.read_csv('data\\p1\\p1_main.csv')\n",
    "data.columns"
   ]
  },
  {
   "cell_type": "code",
   "execution_count": 7,
   "metadata": {},
   "outputs": [
    {
     "name": "stdout",
     "output_type": "stream",
     "text": [
      "Mean Scores by Vibration Condition:\n",
      "   vibration  elbow_end_deg     error  move_times\n",
      "0          0     117.597839 -3.702134    0.631507\n",
      "1          1     113.374765 -7.821923    0.718027\n",
      "2          2     114.512486 -7.299031    0.737529\n",
      "3          3     111.250830 -9.990596    0.675513\n",
      "\n",
      "Difference Scores Compared to '0 Vibration' Condition:\n",
      "   vibration  elbow_end_deg     error  move_times\n",
      "0          0       0.000000  0.000000    0.000000\n",
      "1          1      -4.223074 -4.119789    0.086520\n",
      "2          2      -3.085353 -3.596897    0.106022\n",
      "3          3      -6.347008 -6.288462    0.044006\n"
     ]
    }
   ],
   "source": [
    "# Calculate mean scores for each vibration condition\n",
    "mean_scores_by_vibration = data.groupby('vibration')[['elbow_end_deg', 'error', 'move_times']].mean()\n",
    "\n",
    "# Calculate the difference scores compared to the \"0 vibration\" condition\n",
    "baseline = mean_scores_by_vibration.loc[0]  # Assuming 'vibration' is the index after grouping\n",
    "difference_scores = mean_scores_by_vibration - baseline\n",
    "\n",
    "# Reset index if you want 'vibration' as a column in your DataFrame\n",
    "mean_scores_by_vibration.reset_index(inplace=True)\n",
    "difference_scores.reset_index(inplace=True)\n",
    "\n",
    "# Display the results\n",
    "print(\"Mean Scores by Vibration Condition:\")\n",
    "print(mean_scores_by_vibration)\n",
    "print(\"\\nDifference Scores Compared to '0 Vibration' Condition:\")\n",
    "print(difference_scores)\n"
   ]
  }
 ],
 "metadata": {
  "kernelspec": {
   "display_name": "thesis",
   "language": "python",
   "name": "python3"
  },
  "language_info": {
   "codemirror_mode": {
    "name": "ipython",
    "version": 3
   },
   "file_extension": ".py",
   "mimetype": "text/x-python",
   "name": "python",
   "nbconvert_exporter": "python",
   "pygments_lexer": "ipython3",
   "version": "3.11.5"
  }
 },
 "nbformat": 4,
 "nbformat_minor": 2
}
