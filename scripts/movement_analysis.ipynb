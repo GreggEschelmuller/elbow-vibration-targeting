{
 "cells": [
  {
   "cell_type": "code",
   "execution_count": 1,
   "metadata": {},
   "outputs": [],
   "source": [
    "import pandas as pd\n",
    "import numpy as np\n",
    "import matplotlib.pyplot as plt\n",
    "import seaborn as sns"
   ]
  },
  {
   "cell_type": "code",
   "execution_count": 3,
   "metadata": {},
   "outputs": [],
   "source": [
    "i = 1\n",
    "trial = pd.read_csv(f'../data/p{i}/p{i}_position_{i}_main.csv')"
   ]
  },
  {
   "cell_type": "code",
   "execution_count": 7,
   "metadata": {},
   "outputs": [
    {
     "data": {
      "text/html": [
       "<div>\n",
       "<style scoped>\n",
       "    .dataframe tbody tr th:only-of-type {\n",
       "        vertical-align: middle;\n",
       "    }\n",
       "\n",
       "    .dataframe tbody tr th {\n",
       "        vertical-align: top;\n",
       "    }\n",
       "\n",
       "    .dataframe thead th {\n",
       "        text-align: right;\n",
       "    }\n",
       "</style>\n",
       "<table border=\"1\" class=\"dataframe\">\n",
       "  <thead>\n",
       "    <tr style=\"text-align: right;\">\n",
       "      <th></th>\n",
       "      <th>move_index</th>\n",
       "      <th>elbow_pos_pix</th>\n",
       "      <th>elbow_pos_deg</th>\n",
       "      <th>pot_volts</th>\n",
       "      <th>time</th>\n",
       "    </tr>\n",
       "  </thead>\n",
       "  <tbody>\n",
       "    <tr>\n",
       "      <th>0</th>\n",
       "      <td>0</td>\n",
       "      <td>-1845.490220</td>\n",
       "      <td>67.562530</td>\n",
       "      <td>4.313058</td>\n",
       "      <td>0.000213</td>\n",
       "    </tr>\n",
       "    <tr>\n",
       "      <th>1</th>\n",
       "      <td>0</td>\n",
       "      <td>-1916.908063</td>\n",
       "      <td>67.451318</td>\n",
       "      <td>4.314669</td>\n",
       "      <td>0.030109</td>\n",
       "    </tr>\n",
       "    <tr>\n",
       "      <th>2</th>\n",
       "      <td>0</td>\n",
       "      <td>-1954.282707</td>\n",
       "      <td>67.362348</td>\n",
       "      <td>4.315958</td>\n",
       "      <td>0.031629</td>\n",
       "    </tr>\n",
       "    <tr>\n",
       "      <th>3</th>\n",
       "      <td>0</td>\n",
       "      <td>-1972.553599</td>\n",
       "      <td>67.384591</td>\n",
       "      <td>4.315636</td>\n",
       "      <td>0.034247</td>\n",
       "    </tr>\n",
       "    <tr>\n",
       "      <th>4</th>\n",
       "      <td>0</td>\n",
       "      <td>-1980.856183</td>\n",
       "      <td>67.429075</td>\n",
       "      <td>4.314992</td>\n",
       "      <td>0.035640</td>\n",
       "    </tr>\n",
       "    <tr>\n",
       "      <th>...</th>\n",
       "      <td>...</td>\n",
       "      <td>...</td>\n",
       "      <td>...</td>\n",
       "      <td>...</td>\n",
       "      <td>...</td>\n",
       "    </tr>\n",
       "    <tr>\n",
       "      <th>799</th>\n",
       "      <td>0</td>\n",
       "      <td>-381.086559</td>\n",
       "      <td>110.356889</td>\n",
       "      <td>3.693093</td>\n",
       "      <td>1.627054</td>\n",
       "    </tr>\n",
       "    <tr>\n",
       "      <th>800</th>\n",
       "      <td>0</td>\n",
       "      <td>-383.493807</td>\n",
       "      <td>110.245677</td>\n",
       "      <td>3.694704</td>\n",
       "      <td>1.629139</td>\n",
       "    </tr>\n",
       "    <tr>\n",
       "      <th>801</th>\n",
       "      <td>0</td>\n",
       "      <td>-385.946724</td>\n",
       "      <td>110.178950</td>\n",
       "      <td>3.695671</td>\n",
       "      <td>1.631070</td>\n",
       "    </tr>\n",
       "    <tr>\n",
       "      <th>802</th>\n",
       "      <td>0</td>\n",
       "      <td>-386.756751</td>\n",
       "      <td>110.201192</td>\n",
       "      <td>3.695348</td>\n",
       "      <td>1.633195</td>\n",
       "    </tr>\n",
       "    <tr>\n",
       "      <th>803</th>\n",
       "      <td>0</td>\n",
       "      <td>-386.745334</td>\n",
       "      <td>110.223435</td>\n",
       "      <td>3.695026</td>\n",
       "      <td>1.635051</td>\n",
       "    </tr>\n",
       "  </tbody>\n",
       "</table>\n",
       "<p>804 rows × 5 columns</p>\n",
       "</div>"
      ],
      "text/plain": [
       "     move_index  elbow_pos_pix  elbow_pos_deg  pot_volts      time\n",
       "0             0   -1845.490220      67.562530   4.313058  0.000213\n",
       "1             0   -1916.908063      67.451318   4.314669  0.030109\n",
       "2             0   -1954.282707      67.362348   4.315958  0.031629\n",
       "3             0   -1972.553599      67.384591   4.315636  0.034247\n",
       "4             0   -1980.856183      67.429075   4.314992  0.035640\n",
       "..          ...            ...            ...        ...       ...\n",
       "799           0    -381.086559     110.356889   3.693093  1.627054\n",
       "800           0    -383.493807     110.245677   3.694704  1.629139\n",
       "801           0    -385.946724     110.178950   3.695671  1.631070\n",
       "802           0    -386.756751     110.201192   3.695348  1.633195\n",
       "803           0    -386.745334     110.223435   3.695026  1.635051\n",
       "\n",
       "[804 rows x 5 columns]"
      ]
     },
     "execution_count": 7,
     "metadata": {},
     "output_type": "execute_result"
    }
   ],
   "source": [
    "trial"
   ]
  },
  {
   "cell_type": "code",
   "execution_count": 20,
   "metadata": {},
   "outputs": [],
   "source": [
    "num_trials = 240\n",
    "min_len = 730\n",
    "for i in range(1, num_trials+1):\n",
    "    if i == 1:\n",
    "        trial = pd.read_csv(f'../data/p1/p1_position_{i}_main.csv')\n",
    "        pos = trial['elbow_pos_deg'].to_list()\n",
    "        pos = pos[-min_len:]\n",
    "        trial_averages = np.array(pos)\n",
    "    else:\n",
    "        trial = pd.read_csv(f'../data/p1/p1_position_{i}_main.csv')\n",
    "        pos = trial['elbow_pos_deg'].to_list()\n",
    "        pos = pos[-min_len:]\n",
    "        trial_averages = np.mean([trial_averages, np.array(pos)], axis=0)\n",
    "    "
   ]
  },
  {
   "cell_type": "code",
   "execution_count": 21,
   "metadata": {},
   "outputs": [
    {
     "data": {
      "image/png": "[encoded data removed]",
      "text/plain": [
       "<Figure size 640x480 with 1 Axes>"
      ]
     },
     "metadata": {},
     "output_type": "display_data"
    }
   ],
   "source": [
    "fig, ax = plt.subplots()\n",
    "\n",
    "plt.plot(trial_averages)\n",
    "plt.show()"
   ]
  }
 ],
 "metadata": {
  "kernelspec": {
   "display_name": "thesis",
   "language": "python",
   "name": "python3"
  },
  "language_info": {
   "codemirror_mode": {
    "name": "ipython",
    "version": 3
   },
   "file_extension": ".py",
   "mimetype": "text/x-python",
   "name": "python",
   "nbconvert_exporter": "python",
   "pygments_lexer": "ipython3",
   "version": "3.12.2"
  }
 },
 "nbformat": 4,
 "nbformat_minor": 2
}
